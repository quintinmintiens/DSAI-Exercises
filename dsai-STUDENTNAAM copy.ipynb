{
 "cells": [
  {
   "cell_type": "markdown",
   "metadata": {},
   "source": [
    "# Examen Data Science & AI\n",
    "\n",
    "- Student: **VUL HIER JE NAAM IN**\n",
    "- Studentennummer: **VUL HIER JE STUDENTENNUMMER IN**\n",
    "- Datum: **EXAMENDATUM**\n",
    "- Klasgroep: **VUL HIER JE KLASGROEP IN ZOALS IN DE EXAMENOPGAVE**\n"
   ]
  },
  {
   "cell_type": "code",
   "execution_count": 1,
   "metadata": {},
   "outputs": [],
   "source": [
    "# Importing the necessary packages\n",
    "import numpy as np                                  # \"Scientific computing\"\n",
    "import scipy.stats as stats                         # Statistical tests\n",
    "\n",
    "import pandas as pd                                 # Data Frame\n",
    "from pandas.api.types import CategoricalDtype\n",
    "\n",
    "import matplotlib.pyplot as plt                     # Basic visualisation\n",
    "from statsmodels.graphics.mosaicplot import mosaic  # Mosaic diagram\n",
    "import seaborn as sns                               # Advanced data visualisation\n",
    "import altair as alt  "
   ]
  },
  {
   "cell_type": "markdown",
   "metadata": {},
   "source": [
    "## Instructies\n",
    "\n",
    "Bij een multiple-true-false vraag, geef je antwoorden als volgt (fictief voorbeeld):\n",
    "\n",
    "1. Waar\n",
    "2. Niet waar\n",
    "3. Niet waar\n",
    "4. Waar\n",
    "\n",
    "Ook bij vragen met verschillende deelvragen gebruik je een genummerde lijst (hieronder een fictief voorbeeld). Merk op dat je LaTeX-notatie mag gebruiken voor wiskundige uitrdukkingen.\n",
    "\n",
    "1. Een tweezijdige z-toets\n",
    "2. $\\overline{x} = 123.456$ (let op! getallen afronden tot 3 cijfers!)\n",
    "3. $g = 112.432$\n",
    "4. $p = 0.567$\n",
    "5. We kunnen de nulhypothese ... (enz.). Er is dus ... (enz.)\n",
    "\n",
    "**Verwijder vóór indienen a.u.b. alle niet gebruikte codeblokken, tekst tussen haakjes (Antwoord op vraag X) en deze instructies. Enkel jouw ingevulde antwoorden blijven over.**"
   ]
  },
  {
   "cell_type": "code",
   "execution_count": 2,
   "metadata": {},
   "outputs": [],
   "source": [
    "# Package imports for data science\n",
    "import numpy as np\n",
    "import pandas as pd\n",
    "import scipy.stats as stats\n",
    "import matplotlib.pyplot as plt\n",
    "import seaborn as sns\n",
    "from statsmodels.graphics.mosaicplot import mosaic\n",
    "import math"
   ]
  },
  {
   "cell_type": "markdown",
   "metadata": {},
   "source": [
    "## Vraag 1\n",
    "\n",
    "(antwoord op vraag 1)"
   ]
  },
  {
   "cell_type": "code",
   "execution_count": 3,
   "metadata": {},
   "outputs": [],
   "source": [
    "# Eventuele Python-code voor deze vraag\n"
   ]
  },
  {
   "cell_type": "markdown",
   "metadata": {},
   "source": [
    "Correct antwoord is b"
   ]
  },
  {
   "cell_type": "markdown",
   "metadata": {},
   "source": [
    "## Vraag 2\n",
    "\n",
    "(antwoord op vraag 2)"
   ]
  },
  {
   "cell_type": "code",
   "execution_count": 4,
   "metadata": {},
   "outputs": [],
   "source": [
    "# Eventuele Python-code voor deze vraag\n"
   ]
  },
  {
   "cell_type": "markdown",
   "metadata": {},
   "source": [
    "a) nee, alleen de eerste jongens of meisjes in de rij hebben een kans om gekozen te worden, de laatsten zullen nooit aan bod komen\n",
    "\n",
    "b) nee, het is beter dat wanneer het kruis of munt is, de een random jongen of meisje selecteerd uit de hele populatie en niet alleen de voorste\n",
    "\n",
    "c) systematic sampling errors => de laatste in de rij krijgen geen kans"
   ]
  },
  {
   "cell_type": "markdown",
   "metadata": {},
   "source": [
    "**VUL ZELF Markdown- en codeblokken toe voor de volgende vragen! Zorg dat elke vraag beantwoord is! Verwijder ook deze Markdown-cel voordat je indient.**"
   ]
  },
  {
   "cell_type": "markdown",
   "metadata": {},
   "source": [
    "## Vraag 3\n"
   ]
  },
  {
   "cell_type": "code",
   "execution_count": 5,
   "metadata": {},
   "outputs": [
    {
     "name": "stdout",
     "output_type": "stream",
     "text": [
      "a) = 0.0477903522728147\n",
      "b) = 0.9937903346742238\n",
      "c) = 0.6429284552994241\n",
      "d) 241.90612299764703, 258.093877002353\n"
     ]
    }
   ],
   "source": [
    "gemiddelde = 250\n",
    "standaardafwijking = 12\n",
    "\n",
    "#calculate the chance of getting a value smaller then 230 with the given 'gemiddelde' and 'standaardafwijking'\n",
    "kans = stats.norm.cdf(230, loc=gemiddelde, scale=standaardafwijking)\n",
    "print(f'a) = {kans}')\n",
    "#calculate the chance of getting a value bigger then 220 with the given 'gemiddelde' and 'standaardafwijking'\n",
    "kans = stats.norm.sf(220, loc=gemiddelde, scale=standaardafwijking)\n",
    "print(f'b) = {kans}')\n",
    "#calculate the chance of getting a value between 245 and 275 with the given 'gemiddelde' and 'standaardaf'\n",
    "kans = stats.norm.cdf(275, loc=gemiddelde, scale=standaardafwijking) - stats.norm.cdf(245, loc=gemiddelde, scale=standaardafwijking)\n",
    "print(f'c) = {kans}')\n",
    "\n",
    "under = stats.norm.isf(1-0.25, loc=gemiddelde, scale=standaardafwijking)\n",
    "upper = stats.norm.isf(0.25, loc=gemiddelde, scale=standaardafwijking)\n",
    "\n",
    "print(f'd) {under}, {upper}')\n"
   ]
  },
  {
   "cell_type": "markdown",
   "metadata": {},
   "source": [
    "## oefening 4\n"
   ]
  },
  {
   "cell_type": "markdown",
   "metadata": {},
   "source": [
    "De hieronder gegeven steekproef is aselect getrokken uit een normale verdeling met gemiddelde\n",
    "12. Bereken een 80%-betrouwbaarheidsinterval voor het steekproefgemiddelde."
   ]
  },
  {
   "cell_type": "code",
   "execution_count": 6,
   "metadata": {},
   "outputs": [],
   "source": [
    "df = pd.DataFrame(data={'Months': [\n",
    "15, 7,13,11,16,11,10, 6,11, 7,\n",
    "15,14, 7,11,11,10, 8, 9,10,13\n",
    "]})"
   ]
  },
  {
   "cell_type": "code",
   "execution_count": 7,
   "metadata": {},
   "outputs": [
    {
     "name": "stdout",
     "output_type": "stream",
     "text": [
      "9.88375741763317, 11.61624258236683\n"
     ]
    }
   ],
   "source": [
    "\n",
    "\n",
    "m = df.mean()[0]\n",
    "n = df.count()[0]\n",
    "s = df.std()[0]\n",
    "alfa = 0.2\n",
    "alfa_div_2 = alfa/2\n",
    "\n",
    "z_alfa_div_2 = stats.t.isf(alfa_div_2, df = n-1)\n",
    "\n",
    "under = m - z_alfa_div_2 * s / math.sqrt(n)\n",
    "upper = m + z_alfa_div_2 * s / math.sqrt(n)\n",
    "\n",
    "print(f'{under}, {upper}')"
   ]
  },
  {
   "cell_type": "markdown",
   "metadata": {},
   "source": [
    "## Oefening 5\n"
   ]
  },
  {
   "cell_type": "markdown",
   "metadata": {},
   "source": [
    "De steekproef die hieronder gegeven is, bevat meetresultaten van een variabele Temperature\n",
    "op twee tijdstippen (time1 en time2). We willen weten of de metingen op het tweede tijdstip\n",
    "significant verschillend zijn van die op het eerste tijdstip.\n",
    "Gebruik een geschikte statistische toets (met significantieniveau 5%) om deze uitspraak te\n",
    "verifi¨eren."
   ]
  },
  {
   "cell_type": "markdown",
   "metadata": {},
   "source": [
    "(a) Welke statistische toets moet je gebruiken om deze onderzoeksvraag te beantwoorden?\n",
    "Wees zo specifiek mogelijk!\n",
    "\n",
    "(b) Formuleer de nulhypothese en de alternatieve hypothese.\n",
    "\n",
    "(c) Bereken de p-waarde.\n",
    "\n",
    "(d) Trek een besluit op basis van de vorige stap en formuleer een antwoord op de onderzoeksvraag.\n",
    "\n",
    "(e) Geef voor de observaties op tijdstip time1:\n",
    "\n",
    "      (i) De interkwartielafstand\n",
    "\n",
    "      (ii) De kurtosis\n",
    "\n",
    "      (iii) Het bereik\n",
    "      \n",
    "      (iv) De standaardafwijking"
   ]
  },
  {
   "cell_type": "code",
   "execution_count": 8,
   "metadata": {},
   "outputs": [],
   "source": [
    "df = pd.DataFrame(data={\n",
    "'time1': [65, 87, 59, 71, 58, 74, 55, 98, 62, 53, 84, 63, 78, 62, 60],\n",
    "'time2': [82, 91, 86, 83, 85, 51, 65, 61, 76, 65, 53, 70, 51, 55, 68]\n",
    "})"
   ]
  },
  {
   "cell_type": "code",
   "execution_count": 9,
   "metadata": {},
   "outputs": [
    {
     "name": "stdout",
     "output_type": "stream",
     "text": [
      "68.6\n",
      "69.46666666666667\n"
     ]
    }
   ],
   "source": [
    "print(df.time1.mean())\n",
    "print(df.time2.mean())"
   ]
  },
  {
   "cell_type": "code",
   "execution_count": 10,
   "metadata": {},
   "outputs": [
    {
     "name": "stdout",
     "output_type": "stream",
     "text": [
      "a) we gebruiken te ttest_rel omdat er niet veel waarden zijn, als alternative gebruiken we two-sided omdat we kijken of da waardes veel verschillen van elkaar\n"
     ]
    },
    {
     "data": {
      "text/plain": [
       "Ttest_relResult(statistic=-0.16099236542769346, pvalue=0.43719974299972214)"
      ]
     },
     "execution_count": 10,
     "metadata": {},
     "output_type": "execute_result"
    }
   ],
   "source": [
    "print(f'a) we gebruiken te ttest_rel omdat er niet veel waarden zijn, als alternative gebruiken we two-sided omdat we kijken of da waardes veel verschillen van elkaar')\n",
    "\n",
    "# Paired t-test with ttest_rel()\n",
    "stats.ttest_rel(df[\"time1\"], df[\"time2\"],alternative='less')"
   ]
  },
  {
   "cell_type": "markdown",
   "metadata": {},
   "source": [
    "- $H_0$: $\\mu_1 - \\mu_2 = 0$ (temperature is the same in both groups)\n",
    "- $H_1$: $\\mu_1 - \\mu_2 < 0$ (temperature is significantly different)"
   ]
  },
  {
   "cell_type": "code",
   "execution_count": 11,
   "metadata": {},
   "outputs": [
    {
     "name": "stdout",
     "output_type": "stream",
     "text": [
      "P-value (0.437) is big so we dont reject the null hypothesis\n"
     ]
    }
   ],
   "source": [
    "print(f'P-value (0.437) is big so we dont reject the null hypothesis')"
   ]
  },
  {
   "cell_type": "markdown",
   "metadata": {},
   "source": [
    "e)"
   ]
  },
  {
   "cell_type": "code",
   "execution_count": 20,
   "metadata": {},
   "outputs": [
    {
     "name": "stdout",
     "output_type": "stream",
     "text": [
      "de interquartile range is 16.5\n",
      "de kurtosis is 0.15796776764037945\n",
      "de range is 45\n",
      "de standaardafwijking is 13.09743704481366\n"
     ]
    }
   ],
   "source": [
    "#calculate the interquartile range of df['time1']\n",
    "IQR = df['time1'].quantile(0.75) - df['time1'].quantile(0.25)\n",
    "print(f'de interquartile range is {IQR}')\n",
    "#calculate the kurtosis of df['time1']\n",
    "kurtosis = df['time1'].kurtosis()\n",
    "print(f'de kurtosis is {kurtosis}')\n",
    "#calculate the range of df['time1']\n",
    "range = df['time1'].max() - df['time1'].min()\n",
    "print(f'de range is {range}')\n",
    "#calculate the standard deviation of df['time1']\n",
    "std = df['time1'].std()\n",
    "print(f'de standaardafwijking is {std}')"
   ]
  },
  {
   "cell_type": "markdown",
   "metadata": {},
   "source": [
    "## oefening 6"
   ]
  },
  {
   "cell_type": "markdown",
   "metadata": {},
   "source": [
    "U heeft onlangs monsters van drie producten aangeboden aan elke klant die uw bedrijf is\n",
    "binnengekomen. Vervolgens vroeg u welk product klanten het beste vonden. U hebt deze\n",
    "voorkeuren voor Product A, Product B en Product C vastgelegd in de dataset die hieronder\n",
    "gegeven is. Zoek uit of de klanten al dan niet een uitgesproken voorkeur hadden voor een van\n",
    "deze producten."
   ]
  },
  {
   "cell_type": "code",
   "execution_count": 50,
   "metadata": {},
   "outputs": [],
   "source": [
    "df = pd.DataFrame(data={'Choice': [\n",
    "\"Product A\",\"Product A\",\"Product B\",\"Product B\",\"Product C\",\n",
    "\"Product B\",\"Product B\",\"Product B\",\"Product C\",\"Product B\",\n",
    "\"Product C\",\"Product A\",\"Product C\",\"Product B\",\"Product C\",\n",
    "\"Product B\",\"Product C\",\"Product C\",\"Product C\",\"Product B\",\n",
    "\"Product C\",\"Product C\",\"Product B\",\"Product C\",\"Product B\",\n",
    "\"Product B\",\"Product B\",\"Product B\",\"Product A\",\"Product B\",\n",
    "\"Product B\",\"Product B\",\"Product B\",\"Product B\",\"Product C\",\n",
    "\"Product C\",\"Product B\",\"Product C\",\"Product C\",\"Product A\",\n",
    "\"Product C\",\"Product C\",\"Product B\",\"Product B\",\"Product B\",\n",
    "\"Product B\",\"Product C\",\"Product C\",\"Product C\",\"Product C\",\n",
    "\"Product C\",\"Product B\",\"Product A\",\"Product C\",\"Product C\",\n",
    "\"Product B\",\"Product B\",\"Product C\",\"Product C\",\"Product C\",\n",
    "\"Product B\",\"Product C\",\"Product B\",\"Product B\",\"Product C\",\n",
    "\"Product B\",\"Product B\",\"Product C\",\"Product C\",\"Product B\",\n",
    "\"Product C\",\"Product C\",\"Product C\",\"Product B\",\"Product B\",\n",
    "\"Product C\",\"Product C\",\"Product C\",\"Product C\",\"Product C\",\n",
    "\"Product C\",\"Product C\",\"Product C\",\"Product C\",\"Product C\",\n",
    "\"Product C\",\"Product C\",\"Product C\",\"Product C\",\"Product B\"\n",
    "]})"
   ]
  },
  {
   "cell_type": "code",
   "execution_count": 32,
   "metadata": {},
   "outputs": [
    {
     "name": "stdout",
     "output_type": "stream",
     "text": [
      "6 36 48\n"
     ]
    }
   ],
   "source": [
    "#count all the Product A values and put them in the variable proda\n",
    "proda = df['Choice'].value_counts()['Product A']\n",
    "#count all the Product B values and put them in the variable prodb\n",
    "prodb = df['Choice'].value_counts()['Product B']\n",
    "#count all the Product C values and put them in the variable prodc\n",
    "prodc = df['Choice'].value_counts()['Product C']\n",
    "\n",
    "print(proda,prodb,prodc)"
   ]
  },
  {
   "cell_type": "markdown",
   "metadata": {},
   "source": [
    "(a) Welke hypothesetoets ga je toepassen om deze onderzoeksvraag te beantwoorden? Wees\n",
    "zo specifiek mogelijk!"
   ]
  },
  {
   "cell_type": "markdown",
   "metadata": {},
   "source": [
    "- chi² test"
   ]
  },
  {
   "cell_type": "markdown",
   "metadata": {},
   "source": [
    "(b) Formuleer de nulhypothese en de alternatieve hypothese"
   ]
  },
  {
   "cell_type": "markdown",
   "metadata": {},
   "source": [
    "- $H_0$: $\\mu_1 - \\mu_2 = 0$ (de klant vindt alle producten even goed)\n",
    "- $H_1$: $\\mu_1 - \\mu_2 < 0$ (de klant vindt niet alle producten even goed)"
   ]
  },
  {
   "cell_type": "markdown",
   "metadata": {},
   "source": [
    "(c) Bereken de gepaste toetsingsgrootheid (teststatistiek) voor deze toets. Geef het symbool\n",
    "en de waarde"
   ]
  },
  {
   "cell_type": "code",
   "execution_count": 55,
   "metadata": {},
   "outputs": [
    {
     "name": "stdout",
     "output_type": "stream",
     "text": [
      "Significance level  ⍺ = 0.05\n",
      "Sample size         n = 90\n",
      "k = 3; df = 2\n",
      "Chi-squared        χ² = 31.2000\n",
      "Critical value      g = 5.9915\n",
      "p-value             p = 0.0000\n"
     ]
    }
   ],
   "source": [
    "observed = df.Choice.value_counts()\n",
    "expected_p = np.array([1/3 ,1/3,1/3])\n",
    "alpha = 0.05               # Significance level\n",
    "n = sum(observed)          # Sample size\n",
    "k = len(observed)          # Number of categories\n",
    "dof = k - 1                # Degrees of freedom\n",
    "expected = expected_p * n  # Expected absolute frequencies in the sample\n",
    "g = stats.chi2.isf(alpha, df=dof)  # Critical value\n",
    "\n",
    "# Goodness-of-fit-test in Python:\n",
    "chi2, p = stats.chisquare(f_obs=observed, f_exp=expected)\n",
    "\n",
    "print(\"Significance level  ⍺ = %.2f\" % alpha)\n",
    "print(\"Sample size         n = %d\" % n)\n",
    "print(\"k = %d; df = %d\" % (k, dof))\n",
    "print(\"Chi-squared        χ² = %.4f\" % chi2)\n",
    "print(\"Critical value      g = %.4f\" % g)\n",
    "print(\"p-value             p = %.4f\" % p)"
   ]
  },
  {
   "cell_type": "markdown",
   "metadata": {},
   "source": [
    "p-value             p = 0.0000 <<<<<< 0.05 voldoende aanwijzing om de H0 waarde te verwerpen\n",
    "\n",
    "Chi-squared        χ² = 31.2000 >>>>> g waarde, voldoende aanwijzing om de H0 waarde te verwerpen\n",
    "\n"
   ]
  },
  {
   "cell_type": "markdown",
   "metadata": {},
   "source": [
    "er is een duidelijk verschil dat de klanten niet alle producten even goed vinden"
   ]
  },
  {
   "cell_type": "markdown",
   "metadata": {},
   "source": [
    "## oefening 7"
   ]
  },
  {
   "cell_type": "code",
   "execution_count": 66,
   "metadata": {},
   "outputs": [],
   "source": [
    "df = pd.DataFrame(data={\n",
    "'x': [\n",
    "394, 369, 393, 442, 371, 416, 477, 406, 422, 459,\n",
    "410, 433, 365, 454, 373, 400, 354, 422, 399, 365,\n",
    "367, 428, 423, 336, 400, 425, 429, 413, 395, 474,\n",
    "405, 410, 383, 359, 429, 372, 331, 476, 395, 339,\n",
    "417, 347, 414, 444, 390, 389, 467, 386, 371, 367,\n",
    "378, 447, 432, 382, 339, 341, 401, 430, 386, 413,\n",
    "435, 414, 433, 435, 362, 356, 386, 322, 455, 384,\n",
    "321, 416, 390, 411, 397, 483, 405, 367, 367, 406,\n",
    "394, 424, 389, 333, 442, 422, 381, 450, 390, 392,\n",
    "368, 381, 406, 337, 419, 397, 427, 368, 501, 435],\n",
    "'y': [\n",
    "461, 427, 468, 426, 418, 463, 441, 461, 436, 439,\n",
    "444, 425, 395, 426, 425, 443, 420, 442, 471, 455,\n",
    "432, 419, 438, 411, 468, 439, 424, 462, 405, 462,\n",
    "407, 435, 422, 450, 436, 450, 440, 418, 426, 423,\n",
    "426, 422, 414, 408, 442, 434, 454, 441, 406, 396,\n",
    "497, 394, 435, 460, 461, 451, 422, 432, 438, 449,\n",
    "410, 426, 435, 460, 452, 475, 426, 437, 469, 444,\n",
    "444, 439, 446, 461, 448, 474, 432, 412, 449, 430,\n",
    "433, 423, 449, 429, 386, 480, 422, 464, 397, 407,\n",
    "409, 455, 461, 431, 420, 445, 424, 453, 432, 449]\n",
    "})"
   ]
  },
  {
   "cell_type": "markdown",
   "metadata": {},
   "source": [
    "(a) Bereken de richtingsco¨effici¨ent van de regressierechte\n",
    "\n",
    "(b) Bereken het snijpunt van de regressierechte met de y-as\n",
    "\n",
    "(c) Bereken de correlatieco¨effici¨ent (symbool + waarde)\n",
    "\n",
    "(d) Formuleer een interpretatie voor de waarde van de correlatieco¨effici¨ent\n",
    "\n",
    "(e) Bereken de determinatieco¨effici¨ent (symbool + waarde)\n",
    "\n",
    "(f) Geef een interpretatie voor de waarde van de determinatieco¨effici¨ent"
   ]
  },
  {
   "cell_type": "code",
   "execution_count": 58,
   "metadata": {},
   "outputs": [
    {
     "data": {
      "text/plain": [
       "<AxesSubplot:xlabel='x', ylabel='y'>"
      ]
     },
     "execution_count": 58,
     "metadata": {},
     "output_type": "execute_result"
    },
    {
     "data": {
      "image/png": "[encoded data removed]",
      "text/plain": [
       "<Figure size 432x288 with 1 Axes>"
      ]
     },
     "metadata": {
      "needs_background": "light"
     },
     "output_type": "display_data"
    }
   ],
   "source": [
    "sns.regplot(x=df.x,y=df.y)"
   ]
  },
  {
   "cell_type": "code",
   "execution_count": 59,
   "metadata": {},
   "outputs": [
    {
     "name": "stdout",
     "output_type": "stream",
     "text": [
      "de slope is 0.02321053790915901\n",
      "de intercept is 427.4330190404864\n",
      "de r_value is 0.041605889593808724\n",
      "de p_value is 0.6810680961242893\n",
      "de std_err is 0.05630424468597042\n"
     ]
    }
   ],
   "source": [
    "#calculate the directional coefficient of the regression line\n",
    "slope, intercept, r_value, p_value, std_err = stats.linregress(df.x,df.y)\n",
    "print(f'de slope is {slope}')\n",
    "print(f'de intercept is {intercept}')\n",
    "print(f'de r_value is {r_value}')\n",
    "print(f'de p_value is {p_value}')\n",
    "print(f'de std_err is {std_err}')\n"
   ]
  },
  {
   "cell_type": "code",
   "execution_count": 67,
   "metadata": {},
   "outputs": [
    {
     "name": "stdout",
     "output_type": "stream",
     "text": [
      "Regression line: ŷ = 427.43 + 0.02 x\n"
     ]
    }
   ],
   "source": [
    "from sklearn.linear_model import LinearRegression\n",
    "\n",
    "x = df.x.values.reshape(-1,1)\n",
    "y = df.y\n",
    "\n",
    "weight_model = LinearRegression().fit(x, y)\n",
    "\n",
    "print(f\"Regression line: ŷ = {weight_model.intercept_:.2f} + {weight_model.coef_[0]:.2f} x\")\n",
    "\n"
   ]
  },
  {
   "cell_type": "markdown",
   "metadata": {},
   "source": [
    "b)"
   ]
  },
  {
   "cell_type": "code",
   "execution_count": 60,
   "metadata": {},
   "outputs": [
    {
     "name": "stdout",
     "output_type": "stream",
     "text": [
      "het snijpunt is 427.4330190404864\n"
     ]
    }
   ],
   "source": [
    "print(f'het snijpunt is {intercept}')"
   ]
  },
  {
   "cell_type": "markdown",
   "metadata": {},
   "source": [
    "c)"
   ]
  },
  {
   "cell_type": "code",
   "execution_count": 62,
   "metadata": {},
   "outputs": [
    {
     "name": "stdout",
     "output_type": "stream",
     "text": [
      "R = 0.04160588959380872\n"
     ]
    }
   ],
   "source": [
    "cor = np.corrcoef(df.x,df.y)[0][1]\n",
    "print(f\"R = {cor}\")"
   ]
  },
  {
   "cell_type": "markdown",
   "metadata": {},
   "source": [
    "e"
   ]
  },
  {
   "cell_type": "code",
   "execution_count": 63,
   "metadata": {},
   "outputs": [
    {
     "name": "stdout",
     "output_type": "stream",
     "text": [
      "R² = 0.0017310500488922004\n"
     ]
    }
   ],
   "source": [
    "print(f\"R² = {cor ** 2}\")"
   ]
  }
 ],
 "metadata": {
  "interpreter": {
   "hash": "8394caf736e900d7ee1789f073abf29288b24295c23c395fe862a6106f19c220"
  },
  "kernelspec": {
   "display_name": "Python 3.10.4 64-bit",
   "language": "python",
   "name": "python3"
  },
  "language_info": {
   "codemirror_mode": {
    "name": "ipython",
    "version": 3
   },
   "file_extension": ".py",
   "mimetype": "text/x-python",
   "name": "python",
   "nbconvert_exporter": "python",
   "pygments_lexer": "ipython3",
   "version": "3.10.4"
  },
  "orig_nbformat": 4
 },
 "nbformat": 4,
 "nbformat_minor": 2
}

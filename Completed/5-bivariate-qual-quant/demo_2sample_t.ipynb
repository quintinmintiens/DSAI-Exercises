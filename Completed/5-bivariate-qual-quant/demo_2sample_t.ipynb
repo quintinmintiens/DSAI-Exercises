{
  "cells": [
    {
      "cell_type": "markdown",
      "metadata": {
        "id": "wi_6OYC03Fe6"
      },
      "source": [
        "# Module 5 - Bivariate analysis: qualitative vs quantitative\n",
        "\n",
        "In this module, we discuss the case where the independent variable is qualitative and the dependent is quantitative. Some typical examples of research question in this case:\n",
        "\n",
        "- Within a certain species of animals, are male individuals significantly larger than females?\n",
        "- Does a new vaccine protect against the disease like it's supposed to?\n",
        "- Does a certain study method like \"retrieval practice\" actually improve learning outcomes (i.e. student's grades)?\n",
        "\n",
        "In this course, we only treat the case where we compare two groups. There are methods to compare more than two groups (e.g. the ANOVA test), but those are beyond the scope of this course."
      ]
    },
    {
      "cell_type": "code",
      "execution_count": 1,
      "metadata": {
        "id": "FQ8935j53FfA"
      },
      "outputs": [],
      "source": [
        "# Package imports\n",
        "import numpy as np                                  # \"Scientific computing\"\n",
        "import scipy.stats as stats                         # Statistical tests\n",
        "\n",
        "import pandas as pd                                 # Dataframe\n",
        "import matplotlib.pyplot as plt                     # Basic visualisation\n",
        "from statsmodels.graphics.mosaicplot import mosaic  # Mosaic plot\n",
        "import seaborn as sns                               # Advanced dataviz"
      ]
    },
    {
      "cell_type": "markdown",
      "metadata": {
        "id": "f4xF1L953FfC"
      },
      "source": [
        "## Data visualisation\n",
        "\n",
        "The following chart types may be appropriate for this type of data:\n",
        "\n",
        "- grouped boxplot or violin plot\n",
        "- grouped density (kde-)plot\n",
        "- bar chart with error bars\n",
        "\n",
        "We'll use the dataset `tips`, included in the Seaborn package to illustrate these.\n",
        "\n",
        "### Boxplot or violin plot\n",
        "\n",
        "For a horizontal boxplot, map the independent (qualitative) variable on the Y-axis and the dependent (quantitative) variable on the X-axis. Swap for a vertical plot."
      ]
    },
    {
      "cell_type": "code",
      "execution_count": 2,
      "metadata": {
        "id": "2iWIerZk3FfD",
        "outputId": "52e2072e-f7eb-4d99-aef6-33e60cca937e"
      },
      "outputs": [
        {
          "data": {
            "image/png": "[encoded data removed]",
            "text/plain": [
              "<Figure size 432x288 with 1 Axes>"
            ]
          },
          "metadata": {
            "needs_background": "light"
          },
          "output_type": "display_data"
        }
      ],
      "source": [
        "tips = sns.load_dataset(\"tips\")\n",
        "sns.boxplot(data=tips, x='tip', y='sex');"
      ]
    },
    {
      "cell_type": "code",
      "execution_count": 4,
      "metadata": {},
      "outputs": [
        {
          "data": {
            "text/html": [
              "<div>\n",
              "<style scoped>\n",
              "    .dataframe tbody tr th:only-of-type {\n",
              "        vertical-align: middle;\n",
              "    }\n",
              "\n",
              "    .dataframe tbody tr th {\n",
              "        vertical-align: top;\n",
              "    }\n",
              "\n",
              "    .dataframe thead th {\n",
              "        text-align: right;\n",
              "    }\n",
              "</style>\n",
              "<table border=\"1\" class=\"dataframe\">\n",
              "  <thead>\n",
              "    <tr style=\"text-align: right;\">\n",
              "      <th></th>\n",
              "      <th>total_bill</th>\n",
              "      <th>tip</th>\n",
              "      <th>sex</th>\n",
              "      <th>smoker</th>\n",
              "      <th>day</th>\n",
              "      <th>time</th>\n",
              "      <th>size</th>\n",
              "    </tr>\n",
              "  </thead>\n",
              "  <tbody>\n",
              "    <tr>\n",
              "      <th>0</th>\n",
              "      <td>16.99</td>\n",
              "      <td>1.01</td>\n",
              "      <td>Female</td>\n",
              "      <td>No</td>\n",
              "      <td>Sun</td>\n",
              "      <td>Dinner</td>\n",
              "      <td>2</td>\n",
              "    </tr>\n",
              "    <tr>\n",
              "      <th>1</th>\n",
              "      <td>10.34</td>\n",
              "      <td>1.66</td>\n",
              "      <td>Male</td>\n",
              "      <td>No</td>\n",
              "      <td>Sun</td>\n",
              "      <td>Dinner</td>\n",
              "      <td>3</td>\n",
              "    </tr>\n",
              "    <tr>\n",
              "      <th>2</th>\n",
              "      <td>21.01</td>\n",
              "      <td>3.50</td>\n",
              "      <td>Male</td>\n",
              "      <td>No</td>\n",
              "      <td>Sun</td>\n",
              "      <td>Dinner</td>\n",
              "      <td>3</td>\n",
              "    </tr>\n",
              "    <tr>\n",
              "      <th>3</th>\n",
              "      <td>23.68</td>\n",
              "      <td>3.31</td>\n",
              "      <td>Male</td>\n",
              "      <td>No</td>\n",
              "      <td>Sun</td>\n",
              "      <td>Dinner</td>\n",
              "      <td>2</td>\n",
              "    </tr>\n",
              "    <tr>\n",
              "      <th>4</th>\n",
              "      <td>24.59</td>\n",
              "      <td>3.61</td>\n",
              "      <td>Female</td>\n",
              "      <td>No</td>\n",
              "      <td>Sun</td>\n",
              "      <td>Dinner</td>\n",
              "      <td>4</td>\n",
              "    </tr>\n",
              "  </tbody>\n",
              "</table>\n",
              "</div>"
            ],
            "text/plain": [
              "   total_bill   tip     sex smoker  day    time  size\n",
              "0       16.99  1.01  Female     No  Sun  Dinner     2\n",
              "1       10.34  1.66    Male     No  Sun  Dinner     3\n",
              "2       21.01  3.50    Male     No  Sun  Dinner     3\n",
              "3       23.68  3.31    Male     No  Sun  Dinner     2\n",
              "4       24.59  3.61  Female     No  Sun  Dinner     4"
            ]
          },
          "execution_count": 4,
          "metadata": {},
          "output_type": "execute_result"
        }
      ],
      "source": [
        "tips.head()"
      ]
    },
    {
      "cell_type": "markdown",
      "metadata": {
        "id": "qk9pRzke3FfE"
      },
      "source": [
        "If there's a lot of overlap between the different groups, this indicates that there is no relation between both variables.\n",
        "\n",
        "The violin plot works similarly:"
      ]
    },
    {
      "cell_type": "code",
      "execution_count": 5,
      "metadata": {
        "id": "iN9u0Z9r3FfE",
        "outputId": "c12f461f-cb68-469d-eacd-de7b9c1d1786"
      },
      "outputs": [
        {
          "data": {
            "image/png": "[encoded data removed]",
            "text/plain": [
              "<Figure size 432x288 with 1 Axes>"
            ]
          },
          "metadata": {
            "needs_background": "light"
          },
          "output_type": "display_data"
        }
      ],
      "source": [
        "sns.violinplot(data=tips, x='tip', y='sex');"
      ]
    },
    {
      "cell_type": "markdown",
      "metadata": {
        "id": "ljic4biY3FfF"
      },
      "source": [
        "### Density plot\n",
        "\n",
        "For a density (kernel density estimate) plot, map the independent (qualitative) variable on the `hue` attribute and the dependent variable on the X-axis."
      ]
    },
    {
      "cell_type": "code",
      "execution_count": 6,
      "metadata": {
        "id": "4t-KM_0p3FfG",
        "outputId": "69caf874-361f-4f71-b81a-9ce1e257f430"
      },
      "outputs": [
        {
          "data": {
            "image/png": "[encoded data removed]",
            "text/plain": [
              "<Figure size 432x288 with 1 Axes>"
            ]
          },
          "metadata": {
            "needs_background": "light"
          },
          "output_type": "display_data"
        }
      ],
      "source": [
        "sns.kdeplot(data=tips, hue='sex', x='tip');"
      ]
    },
    {
      "cell_type": "markdown",
      "metadata": {
        "id": "Ah37MBSE3FfH"
      },
      "source": [
        "### Bar chart with error bars\n",
        "\n",
        "Another chart type that is often used for this type of data is a bar plot of the sample mean of each group. However, watch out with this. Only showing the sample mean in a chart is insufficient to determine whether any difference between groups is significant. A chart should also show the dispersion in the data set. This can be visualized using error bars.\n",
        "\n",
        "In the example below, the parameter `ci='sd'` will show the standard deviation:"
      ]
    },
    {
      "cell_type": "code",
      "execution_count": 7,
      "metadata": {
        "id": "WEWk1nM03FfH",
        "outputId": "da21aa53-be37-4fc0-b77c-5f5bfd868f4c"
      },
      "outputs": [
        {
          "data": {
            "image/png": "[encoded data removed]",
            "text/plain": [
              "<Figure size 432x288 with 1 Axes>"
            ]
          },
          "metadata": {
            "needs_background": "light"
          },
          "output_type": "display_data"
        }
      ],
      "source": [
        "sns.barplot(data=tips, x='sex', y='tip', ci='sd');"
      ]
    },
    {
      "cell_type": "markdown",
      "metadata": {
        "id": "lSeql2bi3FfI"
      },
      "source": [
        "Again, if there's a lot of overlap between the error bars, this indicates that there is no (or only a small) association between the variables.\n",
        "\n",
        "Remark that this type of chart is only useful if the variable is normally distributed. In this dataset with a lot of outliers (see the boxplot from earlier), the symmetrical error bars do not correctly represent how the data is distributed. Usually a boxplot or density plot is more appropriate."
      ]
    },
    {
      "cell_type": "markdown",
      "metadata": {
        "id": "4VB8pMRl3FfI"
      },
      "source": [
        "## The t-test for two independent samples\n",
        "\n",
        "Earlier, we saw how to apply the $t$-test to verify a statement about the sample mean of a small sample. The $t$-test can also be used to compare two samples. First, we will look at the case of independent samples that were taken separately.\n",
        "\n",
        "**Example:** In a clinical trial, researchers want to determine whether some new drug has a reduced reaction speed, i.e. a higher reaction time,  as a side effect. Six participants received the drug (treatment group), while six others received a placebo (control group). Their response time to a stimulus was then measured (in ms). We want to investigate whether there are significant differences between the treatment and control groups.\n",
        "\n",
        "The response time measurements are given below:"
      ]
    },
    {
      "cell_type": "code",
      "execution_count": 8,
      "metadata": {
        "id": "vui0dMSt3FfJ"
      },
      "outputs": [],
      "source": [
        "control = np.array([91, 87, 99, 77, 88, 91])\n",
        "treatment = np.array([101, 110, 103, 93, 99, 104])"
      ]
    },
    {
      "cell_type": "markdown",
      "metadata": {
        "id": "bxFIGetx3FfK"
      },
      "source": [
        "The population mean for patients in the control group is notated $\\mu_1$, for those in the treatment group $\\mu_2$.\n",
        "\n",
        "The hypotheses are:\n",
        "\n",
        "- $H_0$: $\\mu_1 - \\mu_2 = 0$ (reaction time is the same in both groups)\n",
        "- $H_1$: $\\mu_1 - \\mu_2 < 0$ (reaction time is significantly higher in the treatment group compared to the control group)\n",
        "\n",
        "In Python, we can use the `ttest_ind()` function from `scipy.stats`. Parameters `a` and `b` are the two groups to be compared. `alternative='less'` indicates that we want to test for the alternative hypothesis that the mean of the control group is less than the mean of the treatment group. Finally, by setting `equal_var=False`, it is *not* assumed that both groups have the same standard deviation."
      ]
    },
    {
      "cell_type": "code",
      "execution_count": 9,
      "metadata": {
        "id": "Td7WAeIB3FfK",
        "outputId": "e781e03a-51ae-434a-8058-69aee064d44f"
      },
      "outputs": [
        {
          "data": {
            "text/plain": [
              "Ttest_indResult(statistic=-3.445612673536487, pvalue=0.003391230079206901)"
            ]
          },
          "execution_count": 9,
          "metadata": {},
          "output_type": "execute_result"
        }
      ],
      "source": [
        "stats.ttest_ind(a=control, b=treatment,\n",
        "    alternative='less', equal_var=False)"
      ]
    },
    {
      "cell_type": "markdown",
      "metadata": {
        "id": "Me1HB5Yq3FfK"
      },
      "source": [
        "The $p$-value is very small, which means that, if the null hypothesis would be correct, it is highly unlikely to observe the differences between the two groups. Consequently, we reject the null hypothesis. Based on the sample, there is reason to conclude that the drug does indeed have a significant impact on reaction speed.\n",
        "\n",
        "**Example:** In the `tips` dataset, do male and female staff get the same tips or is there a difference?\n"
      ]
    },
    {
      "cell_type": "code",
      "execution_count": 11,
      "metadata": {
        "id": "4UwpYZUF3FfL"
      },
      "outputs": [
        {
          "data": {
            "text/plain": [
              "Ttest_indResult(statistic=1.3878597054212687, pvalue=0.16645623503456763)"
            ]
          },
          "execution_count": 11,
          "metadata": {},
          "output_type": "execute_result"
        }
      ],
      "source": [
        "stats.ttest_ind(alternative='two-sided',\n",
        "    a=tips.tip[tips.sex == 'Male'],\n",
        "    b=tips.tip[tips.sex == 'Female'])"
      ]
    },
    {
      "cell_type": "markdown",
      "metadata": {
        "id": "EaRZz9Gb3FfL"
      },
      "source": [
        "The $p$ value of 0.166 is quite large, so we do not reject the null hypothesis. On a significance level of e.g. 0.05, the data set does not contain evidence that male and female serving staff receive different tips."
      ]
    },
    {
      "cell_type": "markdown",
      "metadata": {
        "id": "GJKeGFhv3FfL"
      },
      "source": [
        "\n",
        "## The t-test for paired samples\n",
        "\n",
        "In this variant of the $t$-test, a measurement is taken on each element of the sample, one time before and one time after an intervention. The aim is to determine whether the intervention had a significant effect on the measurement.\n",
        "\n",
        "**Case:** A study examined whether cars that run on petrol with additives also have a lower consumption. Ten cars were first filled with either regular gasoline or gasoline with additives (determined by tossing a coin), after which consumption was measured (expressed in miles per gallon). The cars were then refueled with the other type of petrol and consumption was measured again.\n",
        "\n",
        "We use a paired $t$ test to determine whether cars are significantly more economical on gasoline with additives."
      ]
    },
    {
      "cell_type": "code",
      "execution_count": 14,
      "metadata": {
        "id": "kpngntbD3FfM",
        "outputId": "54e8a352-f9cd-461b-a1c2-38930df882c8"
      },
      "outputs": [
        {
          "data": {
            "text/plain": [
              "Ttest_relResult(statistic=-4.47213595499958, pvalue=0.00077494295585091)"
            ]
          },
          "execution_count": 14,
          "metadata": {},
          "output_type": "execute_result"
        }
      ],
      "source": [
        "# Measurements:\n",
        "regular =   np.array([16, 20, 21, 22, 23, 22, 27, 25, 27, 28])\n",
        "additives = np.array([19, 22, 24, 24, 25, 25, 26, 26, 28, 32])\n",
        "\n",
        "# Paired t-test with ttest_rel()\n",
        "stats.ttest_rel(regular, additives, alternative='less')"
      ]
    },
    {
      "cell_type": "markdown",
      "metadata": {
        "id": "MCgQ84jy3FfM"
      },
      "source": [
        "We use `alternative='less'` because we want to check whether the mileage per gallon on regular fuel is smaller than on fuel with additives.\n",
        "\n",
        "The $p$-value, 0.0007749, is very small. Even with an $\\alpha = 0.01$, we can reject the null hypothesis. According to this sample, we have reasons to assume that the fuel with additives indeed leads to significantly lower fuel consumption.\n"
      ]
    },
    {
      "cell_type": "markdown",
      "metadata": {
        "id": "6jfMaJzU3FfM"
      },
      "source": [
        "\n",
        "## Effect size\n",
        "\n",
        "\n",
        "If we want to know whether two groups are significantly different, we can use a statistical test like the two sample $t$-test. The result of a statistical test is generally either \"true\" or \"false\", depending on the $p$-value and the chosen significance level.\n",
        "\n",
        "*Effect size* is another metric to express the magnitude of the difference between two groups. Several definitions of effect size exist, but one of the most commonly used is *Cohen's $d$*.\n",
        "\n",
        "*Cohen's $d$* is in particular used in research in education to evaluate what factors influence learning outcomes for students. Factors include learning and teaching strategies, use of technology, classroom management, student and teacher attributes, etc.\n",
        "\n",
        "\n",
        "$$d = \\frac{\\overline{x}_1 - \\overline{x}_2}{s}$$\n",
        "\n",
        "$$s = \\sqrt{\\frac{(n_1-1)s_1^2 + (n_2-1)s_2^2}{n_1+n_2-2}}$$\n",
        "\n",
        "With: $\\overline{x}_1$ and $\\overline{x}_2$ the mean of each group, $n_1$ and $n_2$ the respective sample sizes and $s_1$ and $s_2$ the respective sample standard deviations.\n",
        "\n",
        "Research papers in this domain always report Cohen's $d$, which allows us to compare the results of different studies. For example, Hattie (2012) performed a massive meta-analysis that synthesises findings from 80,000 studies into what works best in education. As a rule of thumb, an influence with $d$ of at least 0.4 is considered to potentially accelerate student achievement. A value for $d$ of 1 means that students can acquire competencies in about half the time they normally would.\n",
        "\n",
        "### Cohen's $d$\n",
        "\n",
        "Cohen's $d$ is defined as the difference between the means of both groups, divided by a pooled standard deviation. There's no Python function for calculating Cohen's $d$ readily available, so we define it here, according to the formula:\n"
      ]
    },
    {
      "cell_type": "code",
      "execution_count": 12,
      "metadata": {
        "id": "s99g6BkG3FfN"
      },
      "outputs": [],
      "source": [
        "def cohen_d(a, b):\n",
        "    na = len(a)\n",
        "    nb = len(b)\n",
        "    pooled_sd = np.sqrt( ((na-1) * a.std(ddof=1)**2 +\n",
        "                          (nb-1) * b.std(ddof=1)**2) / (na + nb - 2) )\n",
        "    return (b.mean() - a.mean()) / pooled_sd"
      ]
    },
    {
      "cell_type": "code",
      "execution_count": 15,
      "metadata": {
        "id": "ymHizmq73FfN",
        "outputId": "c27e4df6-4d31-4377-f0a0-d5f41bd45ab9"
      },
      "outputs": [
        {
          "data": {
            "text/plain": [
              "0.5573262931770191"
            ]
          },
          "execution_count": 15,
          "metadata": {},
          "output_type": "execute_result"
        }
      ],
      "source": [
        "# Effect size of additives in gasoline:\n",
        "cohen_d(regular, additives)"
      ]
    }
  ],
  "metadata": {
    "colab": {
      "name": "demo-2sample-t.ipynb",
      "provenance": []
    },
    "interpreter": {
      "hash": "81794d4967e6c3204c66dcd87b604927b115b27c00565d3d43f05ba2f3a2cb0d"
    },
    "kernelspec": {
      "display_name": "Python 3.9.7 64-bit",
      "language": "python",
      "name": "python3"
    },
    "language_info": {
      "codemirror_mode": {
        "name": "ipython",
        "version": 3
      },
      "file_extension": ".py",
      "mimetype": "text/x-python",
      "name": "python",
      "nbconvert_exporter": "python",
      "pygments_lexer": "ipython3",
      "version": "3.9.7"
    },
    "orig_nbformat": 4
  },
  "nbformat": 4,
  "nbformat_minor": 0
}

{
 "cells": [
  {
   "cell_type": "markdown",
   "metadata": {},
   "source": [
    "# Lab 2.01 - Australian Athletes (ais)\n",
    "\n",
    "Import all necessary Python libraries and load the AIS dataset from lab exercise 1.01. Also include the code for setting the index and conversion to categorical variables!"
   ]
  },
  {
   "cell_type": "code",
   "execution_count": 1,
   "metadata": {},
   "outputs": [],
   "source": [
    "# Importing the necessary packages\n",
    "import numpy as np                                  # \"Scientific computing\"\n",
    "import scipy.stats as stats                         # Statistical tests\n",
    "\n",
    "import pandas as pd                                 # Data Frame\n",
    "from pandas.api.types import CategoricalDtype\n",
    "\n",
    "import matplotlib.pyplot as plt                     # Basic visualisation\n",
    "from statsmodels.graphics.mosaicplot import mosaic  # Mosaic diagram\n",
    "import seaborn as sns                               # Advanced data visualisation\n",
    "import altair as alt                                # Alternative visualisation system"
   ]
  },
  {
   "cell_type": "code",
   "execution_count": 26,
   "metadata": {},
   "outputs": [
    {
     "data": {
      "text/html": [
       "<div>\n",
       "<style scoped>\n",
       "    .dataframe tbody tr th:only-of-type {\n",
       "        vertical-align: middle;\n",
       "    }\n",
       "\n",
       "    .dataframe tbody tr th {\n",
       "        vertical-align: top;\n",
       "    }\n",
       "\n",
       "    .dataframe thead th {\n",
       "        text-align: right;\n",
       "    }\n",
       "</style>\n",
       "<table border=\"1\" class=\"dataframe\">\n",
       "  <thead>\n",
       "    <tr style=\"text-align: right;\">\n",
       "      <th></th>\n",
       "      <th>id</th>\n",
       "      <th>rcc</th>\n",
       "      <th>wcc</th>\n",
       "      <th>hc</th>\n",
       "      <th>hg</th>\n",
       "      <th>ferr</th>\n",
       "      <th>bmi</th>\n",
       "      <th>ssf</th>\n",
       "      <th>pcBfat</th>\n",
       "      <th>lbm</th>\n",
       "      <th>ht</th>\n",
       "      <th>wt</th>\n",
       "      <th>sex</th>\n",
       "      <th>sport</th>\n",
       "    </tr>\n",
       "  </thead>\n",
       "  <tbody>\n",
       "    <tr>\n",
       "      <th>0</th>\n",
       "      <td>1</td>\n",
       "      <td>3.96</td>\n",
       "      <td>7.5</td>\n",
       "      <td>37.5</td>\n",
       "      <td>12.3</td>\n",
       "      <td>60</td>\n",
       "      <td>20.56</td>\n",
       "      <td>109.1</td>\n",
       "      <td>19.75</td>\n",
       "      <td>63.32</td>\n",
       "      <td>195.9</td>\n",
       "      <td>78.9</td>\n",
       "      <td>f</td>\n",
       "      <td>B_Ball</td>\n",
       "    </tr>\n",
       "    <tr>\n",
       "      <th>1</th>\n",
       "      <td>2</td>\n",
       "      <td>4.41</td>\n",
       "      <td>8.3</td>\n",
       "      <td>38.2</td>\n",
       "      <td>12.7</td>\n",
       "      <td>68</td>\n",
       "      <td>20.67</td>\n",
       "      <td>102.8</td>\n",
       "      <td>21.30</td>\n",
       "      <td>58.55</td>\n",
       "      <td>189.7</td>\n",
       "      <td>74.4</td>\n",
       "      <td>f</td>\n",
       "      <td>B_Ball</td>\n",
       "    </tr>\n",
       "    <tr>\n",
       "      <th>2</th>\n",
       "      <td>3</td>\n",
       "      <td>4.14</td>\n",
       "      <td>5.0</td>\n",
       "      <td>36.4</td>\n",
       "      <td>11.6</td>\n",
       "      <td>21</td>\n",
       "      <td>21.86</td>\n",
       "      <td>104.6</td>\n",
       "      <td>19.88</td>\n",
       "      <td>55.36</td>\n",
       "      <td>177.8</td>\n",
       "      <td>69.1</td>\n",
       "      <td>f</td>\n",
       "      <td>B_Ball</td>\n",
       "    </tr>\n",
       "    <tr>\n",
       "      <th>3</th>\n",
       "      <td>4</td>\n",
       "      <td>4.11</td>\n",
       "      <td>5.3</td>\n",
       "      <td>37.3</td>\n",
       "      <td>12.6</td>\n",
       "      <td>69</td>\n",
       "      <td>21.88</td>\n",
       "      <td>126.4</td>\n",
       "      <td>23.66</td>\n",
       "      <td>57.18</td>\n",
       "      <td>185.0</td>\n",
       "      <td>74.9</td>\n",
       "      <td>f</td>\n",
       "      <td>B_Ball</td>\n",
       "    </tr>\n",
       "    <tr>\n",
       "      <th>4</th>\n",
       "      <td>5</td>\n",
       "      <td>4.45</td>\n",
       "      <td>6.8</td>\n",
       "      <td>41.5</td>\n",
       "      <td>14.0</td>\n",
       "      <td>29</td>\n",
       "      <td>18.96</td>\n",
       "      <td>80.3</td>\n",
       "      <td>17.64</td>\n",
       "      <td>53.20</td>\n",
       "      <td>184.6</td>\n",
       "      <td>64.6</td>\n",
       "      <td>f</td>\n",
       "      <td>B_Ball</td>\n",
       "    </tr>\n",
       "  </tbody>\n",
       "</table>\n",
       "</div>"
      ],
      "text/plain": [
       "   id   rcc  wcc    hc    hg  ferr    bmi    ssf  pcBfat    lbm     ht    wt  \\\n",
       "0   1  3.96  7.5  37.5  12.3    60  20.56  109.1   19.75  63.32  195.9  78.9   \n",
       "1   2  4.41  8.3  38.2  12.7    68  20.67  102.8   21.30  58.55  189.7  74.4   \n",
       "2   3  4.14  5.0  36.4  11.6    21  21.86  104.6   19.88  55.36  177.8  69.1   \n",
       "3   4  4.11  5.3  37.3  12.6    69  21.88  126.4   23.66  57.18  185.0  74.9   \n",
       "4   5  4.45  6.8  41.5  14.0    29  18.96   80.3   17.64  53.20  184.6  64.6   \n",
       "\n",
       "  sex   sport  \n",
       "0   f  B_Ball  \n",
       "1   f  B_Ball  \n",
       "2   f  B_Ball  \n",
       "3   f  B_Ball  \n",
       "4   f  B_Ball  "
      ]
     },
     "execution_count": 26,
     "metadata": {},
     "output_type": "execute_result"
    }
   ],
   "source": [
    "ais = pd.read_csv('../data/ais.csv')\n",
    "ais.head()"
   ]
  },
  {
   "cell_type": "markdown",
   "metadata": {},
   "source": [
    "Use an appropriate chart type to visualise the following variables. Are several chart types suitable? Make one of each! Note how some graphs nevertheless give a better insight into the data than other types of graphs.\n",
    "\n",
    "- `sex`\n",
    "- `sport`\n",
    "- `ht` (show this also divided by `sex` and by `sport`.)"
   ]
  },
  {
   "cell_type": "code",
   "execution_count": 4,
   "metadata": {},
   "outputs": [
    {
     "data": {
      "image/png": "[encoded data removed]",
      "text/plain": [
       "<Figure size 360x360 with 1 Axes>"
      ]
     },
     "metadata": {
      "needs_background": "light"
     },
     "output_type": "display_data"
    }
   ],
   "source": [
    "sns.displot(data = ais[\"sex\"]);"
   ]
  },
  {
   "cell_type": "code",
   "execution_count": 5,
   "metadata": {},
   "outputs": [
    {
     "data": {
      "image/png": "[encoded data removed]",
      "text/plain": [
       "<Figure size 360x360 with 1 Axes>"
      ]
     },
     "metadata": {
      "needs_background": "light"
     },
     "output_type": "display_data"
    }
   ],
   "source": [
    "sns.displot(data = ais[\"sport\"]);"
   ]
  },
  {
   "cell_type": "code",
   "execution_count": 8,
   "metadata": {},
   "outputs": [
    {
     "data": {
      "text/plain": [
       "<seaborn.axisgrid.FacetGrid at 0x25d435145b0>"
      ]
     },
     "execution_count": 8,
     "metadata": {},
     "output_type": "execute_result"
    },
    {
     "data": {
      "image/png": "[encoded data removed]",
      "text/plain": [
       "<Figure size 360x360 with 1 Axes>"
      ]
     },
     "metadata": {
      "needs_background": "light"
     },
     "output_type": "display_data"
    }
   ],
   "source": [
    "sns.catplot(data = ais,kind = \"count\",y = \"sport\")"
   ]
  },
  {
   "cell_type": "code",
   "execution_count": 24,
   "metadata": {},
   "outputs": [
    {
     "data": {
      "text/plain": [
       "<seaborn.axisgrid.FacetGrid at 0x25d7bab2880>"
      ]
     },
     "execution_count": 24,
     "metadata": {},
     "output_type": "execute_result"
    },
    {
     "data": {
      "image/png": "[encoded data removed]",
      "text/plain": [
       "<Figure size 360x360 with 1 Axes>"
      ]
     },
     "metadata": {
      "needs_background": "light"
     },
     "output_type": "display_data"
    }
   ],
   "source": [
    "sns.displot(data = ais[ais.sex == \"f\"].ht, kde=True)\n"
   ]
  },
  {
   "cell_type": "code",
   "execution_count": 25,
   "metadata": {},
   "outputs": [
    {
     "data": {
      "text/plain": [
       "<seaborn.axisgrid.FacetGrid at 0x25d78d12a90>"
      ]
     },
     "execution_count": 25,
     "metadata": {},
     "output_type": "execute_result"
    },
    {
     "data": {
      "image/png": "[encoded data removed]",
      "text/plain": [
       "<Figure size 360x360 with 1 Axes>"
      ]
     },
     "metadata": {
      "needs_background": "light"
     },
     "output_type": "display_data"
    }
   ],
   "source": [
    "sns.displot(data = ais[ais.sex == \"m\"].ht,kde = True)\n"
   ]
  },
  {
   "cell_type": "markdown",
   "metadata": {},
   "source": [
    "Select the following subsets from the dataset and calculate for each the appropriate measures of central tendency (and, when possible, dispersion) of the variables `ht` and `sex`:\n",
    "\n",
    "1. the rowers\n",
    "2. the rowers, netball and tennis players together\n",
    "3. the female basketball players and rowers together"
   ]
  },
  {
   "cell_type": "code",
   "execution_count": 97,
   "metadata": {},
   "outputs": [
    {
     "name": "stdout",
     "output_type": "stream",
     "text": [
      "Selection 1 ********************************\n",
      "female: 22\n",
      "Male: 15\n",
      "mode: f\n",
      "Selection 2 ********************************\n",
      "female: 52\n",
      "female: 19\n",
      "mode: f\n"
     ]
    },
    {
     "name": "stderr",
     "output_type": "stream",
     "text": [
      "C:\\Users\\szymo\\AppData\\Local\\Temp\\ipykernel_19772\\4172599024.py:11: UserWarning: Boolean Series key will be reindexed to match DataFrame index.\n",
      "  femalesports = fdf[(ais.sport == \"Row\") | (ais.sport == \"Netball\") | (ais.sport == \"Tennis\")]\n",
      "C:\\Users\\szymo\\AppData\\Local\\Temp\\ipykernel_19772\\4172599024.py:16: UserWarning: Boolean Series key will be reindexed to match DataFrame index.\n",
      "  malesports = mdf[(ais.sport == \"Row\") | (ais.sport == \"Netball\") | (ais.sport == \"Tennis\")]\n"
     ]
    }
   ],
   "source": [
    "print(\"Selection 1 ********************************\")\n",
    "female = ais[(ais.sex == \"f\") & (ais.sport == \"Row\")]\n",
    "print(f\"female: { female.id.count()}\")\n",
    "male = ais[(ais.sex == \"m\") & (ais.sport == \"Row\")]\n",
    "print(f\"Male: { male.id.count()}\")\n",
    "print(\"mode: \" + ais[ais.sport == \"Row\"].mode()[\"sex\"][0])\n",
    "\n",
    "print(\"Selection 2 ********************************\")\n",
    "female = (ais.sex == \"f\")\n",
    "fdf = ais[female]\n",
    "femalesports = fdf[(ais.sport == \"Row\") | (ais.sport == \"Netball\") | (ais.sport == \"Tennis\")]\n",
    "print(f\"female: { femalesports.id.count()}\")\n",
    "\n",
    "male = (ais.sex == \"m\")\n",
    "mdf = ais[male]\n",
    "malesports = mdf[(ais.sport == \"Row\") | (ais.sport == \"Netball\") | (ais.sport == \"Tennis\")]\n",
    "print(f\"female: { malesports.id.count()}\")\n",
    "print(\"mode: \" + ais[(ais.sport == \"Row\") | (ais.sport == \"Netball\") | (ais.sport == \"Tennis\")].mode()[\"sex\"][0])\n",
    "\n"
   ]
  },
  {
   "cell_type": "code",
   "execution_count": 57,
   "metadata": {},
   "outputs": [
    {
     "name": "stdout",
     "output_type": "stream",
     "text": [
      "Selection 1 ********************************\n",
      "Mean:                182.3756756756757\n",
      "Standard deviation:  7.798376091832815\n",
      "Variance:            60.81466966966965\n",
      "Skewness:            -0.9519631183854053\n",
      "Kurtosis:            2.9203632716558277\n",
      "Minimum:   156.0\n",
      "Median:    181.8\n",
      "Maximum:   198.0\n",
      "Selection 2 ***********************************************************\n",
      "Mean:                179.0661971830986\n",
      "Standard deviation:  7.936370952987299\n",
      "Variance:            62.98598390342053\n",
      "Skewness:            -0.3486616428809658\n",
      "Kurtosis:            0.8305138548642468\n",
      "Minimum:   156.0\n",
      "Median:    179.5\n",
      "Maximum:   198.0\n",
      "Selection 3 ***********************************************************\n",
      "Mean:                180.1257142857143\n",
      "Standard deviation:  7.144077878879525\n",
      "Variance:            51.03784873949577\n",
      "Skewness:            -0.7104900674717266\n",
      "Kurtosis:            3.1361094612264235\n",
      "Minimum:   156.0\n",
      "Median:    179.7\n",
      "Maximum:   195.9\n"
     ]
    },
    {
     "name": "stderr",
     "output_type": "stream",
     "text": [
      "C:\\Users\\szymo\\AppData\\Local\\Temp\\ipykernel_19772\\1425887772.py:27: UserWarning: Boolean Series key will be reindexed to match DataFrame index.\n",
      "  female = new[(ais.sport == \"Row\") | (ais.sport == \"B_Ball\")].ht\n"
     ]
    }
   ],
   "source": [
    "print(\"Selection 1 ********************************\")\n",
    "rowers = ais[ais.sport == \"Row\"].ht\n",
    "print(f\"Mean:                {rowers.mean()}\")\n",
    "print(f\"Standard deviation:  {rowers.std()}\") # Pay attention: n-1 in the denominator\n",
    "print(f\"Variance:            {rowers.var()}\") # Pay attention: n-1 in the denominator\n",
    "print(f\"Skewness:            {rowers.skew()}\")\n",
    "print(f\"Kurtosis:            {rowers.kurtosis()}\")\n",
    "print(f\"Minimum:   {rowers.min()}\")\n",
    "print(f\"Median:    {rowers.median()}\")\n",
    "print(f\"Maximum:   {rowers.max()}\")\n",
    "\n",
    "print('Selection 2 ***********************************************************')\n",
    "sports = ais[(ais.sport == \"Row\") | (ais.sport == \"Netball\") | (ais.sport == \"Tennis\")].ht\n",
    "print(f\"Mean:                {sports.mean()}\")\n",
    "print(f\"Standard deviation:  {sports.std()}\") # Pay attention: n-1 in the denominator\n",
    "print(f\"Variance:            {sports.var()}\") # Pay attention: n-1 in the denominator\n",
    "print(f\"Skewness:            {sports.skew()}\")\n",
    "print(f\"Kurtosis:            {sports.kurtosis()}\")\n",
    "print(f\"Minimum:   {sports.min()}\")\n",
    "print(f\"Median:    {sports.median()}\")\n",
    "print(f\"Maximum:   {sports.max()}\")\n",
    "\n",
    "print('Selection 3 ***********************************************************')\n",
    "\n",
    "mask  = (ais.sex == \"f\")\n",
    "new = ais[mask]\n",
    "female = new[(ais.sport == \"Row\") | (ais.sport == \"B_Ball\")].ht\n",
    "print(f\"Mean:                {female.mean()}\")\n",
    "print(f\"Standard deviation:  {female.std()}\") # Pay attention: n-1 in the denominator\n",
    "print(f\"Variance:            {female.var()}\") # Pay attention: n-1 in the denominator\n",
    "print(f\"Skewness:            {female.skew()}\")\n",
    "print(f\"Kurtosis:            {female.kurtosis()}\")\n",
    "print(f\"Minimum:   {female.min()}\")\n",
    "print(f\"Median:    {female.median()}\")\n",
    "print(f\"Maximum:   {female.max()}\")\n",
    "\n",
    "\n",
    "\n"
   ]
  },
  {
   "cell_type": "markdown",
   "metadata": {},
   "source": [
    "## Check your answers\n",
    "\n",
    "As a check, here are the results of the last question. First the frequencies and mode of the variable `sex`:\n",
    "\n",
    "|           | Selection 1 | Selection 2 | Selection 3 |\n",
    "| :-------- | :---------- | :---------- | :---------- |\n",
    "| **f**     | 22          | 52          | 35          |\n",
    "| **m**     | 15          | 19          | 0           |\n",
    "| **mode**  | f           | f           | f           |\n",
    "\n",
    "Then the relevant measures for central tendency and dispersion for `ht` (max. 3 decimal places):\n",
    "\n",
    "| Statistic  | Selection 1 | Selection 2 | Selection 3 |\n",
    "| :--------- | :---------- | :---------- | :---------- |\n",
    "| mean       | 182.376     | 179.066     | 180.126     |\n",
    "| stdev      | 7.798       | 7.936       | 7.144       |\n",
    "| min        | 156         | 156         | 156         |\n",
    "| Q1         | 179.3       | 174.25      | 177.4       |\n",
    "| median     | 181.8       | 179.5       | 179.7       |\n",
    "| Q3         | 186.3       | 183.4       | 184.65      |\n",
    "| max        | 198         | 198         | 195.9       |\n",
    "| IQR        | 7           | 9.15        | 7.250       |"
   ]
  }
 ],
 "metadata": {
  "interpreter": {
   "hash": "63fd5069d213b44bf678585dea6b12cceca9941eaf7f819626cde1f2670de90d"
  },
  "kernelspec": {
   "display_name": "Python 3.9.7 64-bit",
   "language": "python",
   "name": "python3"
  },
  "language_info": {
   "codemirror_mode": {
    "name": "ipython",
    "version": 3
   },
   "file_extension": ".py",
   "mimetype": "text/x-python",
   "name": "python",
   "nbconvert_exporter": "python",
   "pygments_lexer": "ipython3",
   "version": "3.9.7"
  },
  "orig_nbformat": 4
 },
 "nbformat": 4,
 "nbformat_minor": 2
}

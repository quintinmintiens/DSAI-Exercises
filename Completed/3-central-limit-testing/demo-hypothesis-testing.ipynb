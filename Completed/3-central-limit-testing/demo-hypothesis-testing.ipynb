{
 "cells": [
  {
   "cell_type": "markdown",
   "metadata": {},
   "source": [
    "# Module 3 - Statistical Hypothesis testing\n"
   ]
  },
  {
   "cell_type": "code",
   "execution_count": 19,
   "metadata": {},
   "outputs": [],
   "source": [
    "# Importing the necessary packages\n",
    "import numpy as np                                  # \"Scientific computing\"\n",
    "import scipy.stats as stats                         # Statistical tests\n",
    "\n",
    "import pandas as pd                                 # Data Frame\n",
    "from pandas.api.types import CategoricalDtype\n",
    "\n",
    "import matplotlib.pyplot as plt                     # Basic visualisation\n",
    "from statsmodels.graphics.mosaicplot import mosaic  # Mosaic diagram\n",
    "import seaborn as sns                               # Advanced data visualisation"
   ]
  },
  {
   "cell_type": "markdown",
   "metadata": {},
   "source": [
    "## The z-test\n",
    "\n",
    "The $z$-test is used to confirm or refute an assumption about the (unknown) *population mean*, based on a sufficiently large sample.\n",
    "\n",
    "### De right-tailed $z$-test\n",
    "\n",
    "It is generally assumed that each day, superheroes save on average $\\mu = 3.3$ people. Researchers want to check this assumption and conduct a sample of 30 superheroes. In this sample, the mean is $\\overline{x} = 3,483$. So we can surmise that superheroes perform *more* rescues on average. \n",
    "\n",
    "The standard deviation in the population is assumed to be known and is $\\sigma = 0.55$.\n",
    "\n",
    "The testing procedure then runs as follows:\n",
    "\n",
    "**Step 1.** Formulate the hypotheses:\n",
    "\n",
    "- $H_0: \\mu = 3.3$\n",
    "- $H_1: \\mu > 3.3$\n",
    "\n",
    "**Step 2.** Choose a significance level, e.g. $\\alpha = 0.05$"
   ]
  },
  {
   "cell_type": "code",
   "execution_count": 20,
   "metadata": {},
   "outputs": [],
   "source": [
    "# Properties of the sample:\n",
    "n = 30      # sample size\n",
    "sm = 3.483  # sample mean\n",
    "s = 0.55    # population standard deviation (assumed to be known)\n",
    "a = 0.05    # significance level (chosen by the researcher)\n",
    "m0 = 3.3    # hypothetical population mean (H0)"
   ]
  },
  {
   "cell_type": "markdown",
   "metadata": {},
   "source": [
    "**Step 3.** Determine the value of the test statistic, in this case $\\overline{x} = 3.483$\n",
    "\n",
    "**Step 4.** Determine the $p$-value and reject $H_0$ if $p < \\alpha$.\n"
   ]
  },
  {
   "cell_type": "code",
   "execution_count": 21,
   "metadata": {},
   "outputs": [
    {
     "name": "stdout",
     "output_type": "stream",
     "text": [
      "p-value: 0.03420\n",
      "p < a: reject H0\n"
     ]
    }
   ],
   "source": [
    "p = stats.norm.sf(sm, loc=m0, scale=s/np.sqrt(n))\n",
    "print(\"p-value: %.5f\" % p)\n",
    "if(p < a):\n",
    "    print(\"p < a: reject H0\")\n",
    "else:\n",
    "    print(\"p > a: do not reject H0\") "
   ]
  },
  {
   "cell_type": "markdown",
   "metadata": {},
   "source": [
    "An alternative method is to determine the critical region, i.e. the set of all values for the sample mean where $H_0$ may be rejected. The boundary of that area is called the critical value $g$. To the left of it you can't reject $H_0$ (acceptance region), to the right you can (critical region). The area of the acceptance region is $1 - \\alpha$, the area of the critical region is $\\alpha$."
   ]
  },
  {
   "cell_type": "code",
   "execution_count": 22,
   "metadata": {},
   "outputs": [
    {
     "name": "stdout",
     "output_type": "stream",
     "text": [
      "Critical value g ≃ 3.465\n",
      "sample mean = 3.483 > g = 3.465: reject H0\n"
     ]
    }
   ],
   "source": [
    "g =  stats.norm.isf(a, loc = m0, scale = s/np.sqrt(n))\n",
    "print(\"Critical value g ≃ %.3f\" % g)\n",
    "if (sm < g):\n",
    "    print(\"sample mean = %.3f < g = %.3f: do not reject H0\" % (sm, g))\n",
    "else:\n",
    "    print(\"sample mean = %.3f > g = %.3f: reject H0\" % (sm, g))"
   ]
  },
  {
   "cell_type": "markdown",
   "metadata": {},
   "source": [
    "A plot of this case:"
   ]
  },
  {
   "cell_type": "code",
   "execution_count": 23,
   "metadata": {},
   "outputs": [
    {
     "data": {
      "text/plain": [
       "<matplotlib.collections.PolyCollection at 0x1c42629d580>"
      ]
     },
     "execution_count": 23,
     "metadata": {},
     "output_type": "execute_result"
    },
    {
     "data": {
      "image/png": "[encoded data removed]",
      "text/plain": [
       "<Figure size 432x288 with 1 Axes>"
      ]
     },
     "metadata": {
      "needs_background": "light"
     },
     "output_type": "display_data"
    }
   ],
   "source": [
    "# Gauss-curve plot:\n",
    "# X-values\n",
    "dist_x = np.linspace(m0 - 4 * s/np.sqrt(n), m0 + 4 * s/np.sqrt(n), num=201)\n",
    "# Y-values for the Gauss curve\n",
    "dist_y = stats.norm.pdf(dist_x, m0, s/np.sqrt(n))\n",
    "\n",
    "fig, dplot = plt.subplots(1, 1)\n",
    "# Plot the Gauss-curve\n",
    "dplot.plot(dist_x, dist_y)\n",
    "# Show the hypothetical population mean with an orange line\n",
    "dplot.axvline(m0, color=\"orange\", lw=2)\n",
    "# Show the sample mean with a red line\n",
    "dplot.axvline(sm, color=\"red\")\n",
    "# Fill the acceptance area in light blue\n",
    "dplot.fill_between(dist_x, 0, dist_y, where=dist_x <= g, color='lightblue')"
   ]
  },
  {
   "cell_type": "markdown",
   "metadata": {},
   "source": [
    "### The left-tailed $z$-test\n",
    "\n",
    "Let's assume that the result of the sample was $\\overline{x} = 3.117$. In that case, we have reasons to assume that the population mean is *lower* than 3.3. We can verify this with a left-tailed $z$ test.\n",
    "\n",
    "**Step 1.** Formulate the hypotheses:\n",
    "\n",
    "- $H_0: \\mu = 3.3$\n",
    "- $H_1: \\mu < 3.3$\n",
    "\n",
    "**Step 2.** Choose significance level, e.g. $\\alpha = 0.05$"
   ]
  },
  {
   "cell_type": "code",
   "execution_count": 24,
   "metadata": {},
   "outputs": [],
   "source": [
    "# Properties of the sample:\n",
    "n = 30      # sample size\n",
    "sm = 3.117  # sample mean\n",
    "s = 0.55    # population standard deviation (assumed to be known)\n",
    "a = 0.05    # significance level (chosen by the researcher)\n",
    "m0 = 3.3    # hypothetical population mean (H0)"
   ]
  },
  {
   "cell_type": "markdown",
   "metadata": {},
   "source": [
    "**Step 3.** Calculate the test statistic: $\\overline{x} = 3.117$\n",
    "\n",
    "**Step 4.** Determine the $p$-value and reject $H_0$ if $p < \\alpha$."
   ]
  },
  {
   "cell_type": "code",
   "execution_count": 25,
   "metadata": {},
   "outputs": [
    {
     "name": "stdout",
     "output_type": "stream",
     "text": [
      "p-waarde: 0.03420\n",
      "p < a, dus H0 verwerpen\n"
     ]
    }
   ],
   "source": [
    "p = stats.norm.cdf(sm, loc=m0, scale=s/np.sqrt(n)) # Let op! cdf() ipv sf()!\n",
    "print(\"p-waarde: %.5f\" % p)\n",
    "if(p < a):\n",
    "    print(\"p < a, dus H0 verwerpen\")\n",
    "else:\n",
    "    print(\"p > a, dus H0 niet verwerpen\")"
   ]
  },
  {
   "cell_type": "markdown",
   "metadata": {},
   "source": [
    "In this case, the critical value $g$ is left of the mean. On the right of $g$, you may not reject $H_0$ (acceptance region), on the left, you can (critical region)."
   ]
  },
  {
   "cell_type": "code",
   "execution_count": 26,
   "metadata": {},
   "outputs": [
    {
     "name": "stdout",
     "output_type": "stream",
     "text": [
      "Critical value g ≃ 3.135\n",
      "sample mean = 3.117 < g = 3.135: reject H0\n"
     ]
    }
   ],
   "source": [
    "g = m0 - stats.norm.isf(a) * s / np.sqrt(n)\n",
    "print(\"Critical value g ≃ %.3f\" % g)\n",
    "if (sm > g):\n",
    "    print(\"sample mean = %.3f > g = %.3f: do not reject H0\" % (sm, g))\n",
    "else:\n",
    "    print(\"sample mean = %.3f < g = %.3f: reject H0\" % (sm, g))"
   ]
  },
  {
   "cell_type": "markdown",
   "metadata": {},
   "source": [
    "We can conclude that if we assume that $H_0$ is true, the probability to draw a sample from this population with this particular value for $\\overline{x}$ is very small indeed. With the chosen significance level, we can reject the null hypothesis.\n",
    "\n",
    "The plot of this case:"
   ]
  },
  {
   "cell_type": "code",
   "execution_count": 27,
   "metadata": {},
   "outputs": [
    {
     "data": {
      "text/plain": [
       "<matplotlib.collections.PolyCollection at 0x1c42631e070>"
      ]
     },
     "execution_count": 27,
     "metadata": {},
     "output_type": "execute_result"
    },
    {
     "data": {
      "image/png": "[encoded data removed]",
      "text/plain": [
       "<Figure size 432x288 with 1 Axes>"
      ]
     },
     "metadata": {
      "needs_background": "light"
     },
     "output_type": "display_data"
    }
   ],
   "source": [
    "# Gauss-curve:\n",
    "# X-values\n",
    "dist_x = np.linspace(m0 - 4 * s/np.sqrt(n), m0 + 4 * s/np.sqrt(n), num=201)\n",
    "# Y-values\n",
    "dist_y = stats.norm.pdf(dist_x, m0, s/np.sqrt(n))\n",
    "fig, dplot = plt.subplots(1, 1)\n",
    "# Plot\n",
    "dplot.plot(dist_x, dist_y)\n",
    "# Hypothetical population mean in orange\n",
    "dplot.axvline(m0, color=\"orange\", lw=2)\n",
    "# Sample mean in red\n",
    "dplot.axvline(sm, color=\"red\")\n",
    "# Fill the acceptance region in light blue\n",
    "dplot.fill_between(dist_x, 0, dist_y, where=dist_x >= g, color='lightblue')"
   ]
  },
  {
   "cell_type": "markdown",
   "metadata": {},
   "source": [
    "### The two-tailed $z$-test\n",
    "\n",
    "When we don't want to test whether the population mean is either greater or lower than a hypothetical value, but only want to know if the sample mean is \"close enough\", we can use a two-tailed $z$-test.\n",
    "\n",
    "**Step 1.** Formulate the hypotheses:\n",
    "\n",
    "- $H_0: \\mu = 3.3$\n",
    "- $H_1: \\mu \\ne 3.3$\n",
    "\n",
    "**Step 2.** Choose significance level, e.g. $\\alpha = 0.05$\n"
   ]
  },
  {
   "cell_type": "code",
   "execution_count": 28,
   "metadata": {},
   "outputs": [],
   "source": [
    "# Properties of the sample:\n",
    "n = 30      # sample size\n",
    "sm = 3.483  # sample mean\n",
    "s = 0.55    # population standard deviation (assumed to be known)\n",
    "a = 0.05    # significance level (chosen by the researcher)\n",
    "m0 = 3.3    # hypothetical population mean (H0)"
   ]
  },
  {
   "cell_type": "markdown",
   "metadata": {},
   "source": [
    "**Step 3.** Determine the test statistic $\\overline{x} = 3.483$\n",
    "\n",
    "**Step 4.** Calculate the $p$-value and reject $H_0$ if $p < \\alpha/2$ (why do we divide by 2?)."
   ]
  },
  {
   "cell_type": "code",
   "execution_count": 29,
   "metadata": {},
   "outputs": [
    {
     "name": "stdout",
     "output_type": "stream",
     "text": [
      "p-waarde: 0.03420\n",
      "p > a/2, dus H0 niet verwerpen\n"
     ]
    }
   ],
   "source": [
    "p = stats.norm.sf(sm, loc=m0, scale=s/np.sqrt(n))\n",
    "print(\"p-waarde: %.5f\" % p)\n",
    "if(p < a/2):\n",
    "    print(\"p < a/2, dus H0 verwerpen\")\n",
    "else:\n",
    "    print(\"p > a/2, dus H0 niet verwerpen\")"
   ]
  },
  {
   "cell_type": "markdown",
   "metadata": {},
   "source": [
    "In this case, we have two critical values: $g_1$ on the left of the mean and $g_2$ on the right. The acceptance region still has area $1-\\alpha$ and the critical region has area $\\alpha$."
   ]
  },
  {
   "cell_type": "code",
   "execution_count": 30,
   "metadata": {},
   "outputs": [
    {
     "name": "stdout",
     "output_type": "stream",
     "text": [
      "Acceptance region [g1, g2] ≃ [3.103, 3.497]\n",
      "Sample mean = 3.483 is inside acceptance region: do not reject H0\n"
     ]
    }
   ],
   "source": [
    "g1 = m0 - stats.norm.isf(a/2) * s / np.sqrt(n)\n",
    "g2 = m0 + stats.norm.isf(a/2) * s / np.sqrt(n)\n",
    "\n",
    "print(\"Acceptance region [g1, g2] ≃ [%.3f, %.3f]\" % (g1,g2))\n",
    "if (g1 < sm and sm < g2):\n",
    "    print(\"Sample mean = %.3f is inside acceptance region: do not reject H0\" % sm)\n",
    "else:\n",
    "    print(\"Sample mean = %.3f is outside acceptance region: reject H0\" % sm)"
   ]
  },
  {
   "cell_type": "markdown",
   "metadata": {},
   "source": [
    "A plot of this case:"
   ]
  },
  {
   "cell_type": "code",
   "execution_count": 31,
   "metadata": {},
   "outputs": [
    {
     "data": {
      "text/plain": [
       "<matplotlib.collections.PolyCollection at 0x1c42639b4c0>"
      ]
     },
     "execution_count": 31,
     "metadata": {},
     "output_type": "execute_result"
    },
    {
     "data": {
      "image/png": "[encoded data removed]",
      "text/plain": [
       "<Figure size 432x288 with 1 Axes>"
      ]
     },
     "metadata": {
      "needs_background": "light"
     },
     "output_type": "display_data"
    }
   ],
   "source": [
    "# Gauss-curve\n",
    "# X-values\n",
    "dist_x = np.linspace(m0 - 4 * s/np.sqrt(n), m0 + 4 * s/np.sqrt(n), num=201)\n",
    "# Y-values\n",
    "dist_y = stats.norm.pdf(dist_x, loc=m0, scale=s/np.sqrt(n))\n",
    "fig, dplot = plt.subplots(1, 1)\n",
    "# Plot\n",
    "dplot.plot(dist_x, dist_y)\n",
    "# Hypothetical population mean in orange\n",
    "dplot.axvline(m0, color=\"orange\", lw=2)\n",
    "# Sample mean in red\n",
    "dplot.axvline(sm, color=\"red\")\n",
    "\n",
    "acc_x = np.linspace(g1, g2, num=101)\n",
    "acc_y = stats.norm.pdf(acc_x, loc=m0, scale=s/np.sqrt(n))\n",
    "# Fill the acceptance region in light blue\n",
    "dplot.fill_between(acc_x, 0, acc_y, color='lightblue')"
   ]
  },
  {
   "cell_type": "markdown",
   "metadata": {},
   "source": [
    "So if we do not make a priori statement whether the actual population mean is either smaller or larger, then the obtained sample mean turns out to be sufficiently probable. We cannot rule out a random sampling error. Or, in other words, we *cannot* reject the null hypothesis here.\n",
    "\n",
    "### Right-tailed $t$-test\n",
    "\n",
    "Suppose that the superhero researchers were unable to take a sufficiently large sample due to time constraints and only made $n = 20$ observations, with the same sample mean $\\overline{x} = 3,483$. The standard deviation in this sample turned out to be $s = 0.55$.\n",
    "\n",
    "In these circumstances, with the same significance level $\\alpha = 0.05$, can we sustain the conclusion that superheroes save *more* than 3.3 people every day?\n",
    "\n",
    "The testing procedure then goes as follows:\n",
    "\n",
    "**Step 1.** Formulate the hypotheses:\n",
    "\n",
    "- $H_0: \\mu = 3.3$\n",
    "- $H_1: \\mu > 3.3$\n",
    "\n",
    "**Step 2.** Choose significance level, e.g. $\\alpha = 0.05$"
   ]
  },
  {
   "cell_type": "code",
   "execution_count": 32,
   "metadata": {},
   "outputs": [],
   "source": [
    "# Properties of the sample:\n",
    "n = 20      # sample size\n",
    "sm = 3.483  # sample mean\n",
    "ss = 0.55   # sample(!) standard deviation\n",
    "a = 0.05    # significance level (chosen by the researcher)\n",
    "m0 = 3.3    # hypothetical population mean (H0)"
   ]
  },
  {
   "cell_type": "markdown",
   "metadata": {},
   "source": [
    "**Step 3.** Determine the test statistic $\\overline{x} = 3.483$\n",
    "\n",
    "**Step 4.** Calculate the $p$-value and reject $H_0$ if $p < \\alpha$"
   ]
  },
  {
   "cell_type": "code",
   "execution_count": 33,
   "metadata": {},
   "outputs": [
    {
     "name": "stdout",
     "output_type": "stream",
     "text": [
      "p-value: 0.07658\n",
      "p > a: do not reject H0\n"
     ]
    }
   ],
   "source": [
    "# Remark that we use the t-distribution here!\n",
    "p = p = stats.t.sf(sm, loc=m0, scale=s/np.sqrt(n), df=n-1)\n",
    "print(\"p-value: %.5f\" % p)\n",
    "if(p < a):\n",
    "    print(\"p < a: reject H0\")\n",
    "else:\n",
    "    print(\"p > a: do not reject H0\")"
   ]
  },
  {
   "cell_type": "markdown",
   "metadata": {},
   "source": [
    "To calculate the critical value, we use the `isf()` function with $n-1$ degrees of freedom."
   ]
  },
  {
   "cell_type": "code",
   "execution_count": 39,
   "metadata": {},
   "outputs": [
    {
     "name": "stdout",
     "output_type": "stream",
     "text": [
      "Critical value g ≃ 3.513\n",
      "sample mean = 3.483 < g = 3.513: do not reject H0\n"
     ]
    }
   ],
   "source": [
    "g = m0 + stats.t.isf(a, df=n-1) * s / np.sqrt(n)\n",
    "#g = stats.t.isf(a,loc=m0,scale = s/np.sqrt(n),df=n-1)\n",
    "print(\"Critical value g ≃ %.3f\" % g)\n",
    "if (sm < g):\n",
    "    print(\"sample mean = %.3f < g = %.3f: do not reject H0\" % (sm, g))\n",
    "else:\n",
    "    print(\"sample mean = %.3f > g = %.3f: reject H0\" % (sm, g))"
   ]
  },
  {
   "cell_type": "markdown",
   "metadata": {},
   "source": [
    "The plot for this case:"
   ]
  },
  {
   "cell_type": "code",
   "execution_count": 40,
   "metadata": {},
   "outputs": [
    {
     "data": {
      "text/plain": [
       "<matplotlib.collections.PolyCollection at 0x1c42802a9a0>"
      ]
     },
     "execution_count": 40,
     "metadata": {},
     "output_type": "execute_result"
    },
    {
     "data": {
      "image/png": "[encoded data removed]",
      "text/plain": [
       "<Figure size 432x288 with 1 Axes>"
      ]
     },
     "metadata": {
      "needs_background": "light"
     },
     "output_type": "display_data"
    }
   ],
   "source": [
    "# Gauss-curve\n",
    "# X-values\n",
    "dist_x = np.linspace(m0 - 4 * s/np.sqrt(n), m0 + 4 * s/np.sqrt(n), num=201)\n",
    "# Y-values\n",
    "dist_y = stats.t.pdf(dist_x, loc=m0, scale=s/np.sqrt(n), df=n-1)\n",
    "fig, dplot = plt.subplots(1, 1)\n",
    "# Plot\n",
    "dplot.plot(dist_x, dist_y)\n",
    "# Hypothetical population mean in orange\n",
    "dplot.axvline(m0, color=\"orange\", lw=2)\n",
    "# Sample mean in red\n",
    "dplot.axvline(sm, color=\"red\")\n",
    "# Fill the acceptance region in light blue\n",
    "dplot.fill_between(dist_x, 0, dist_y, where=dist_x <= g, color='lightblue')"
   ]
  },
  {
   "cell_type": "markdown",
   "metadata": {},
   "source": [
    "In other words, even if we get similar results in our sample, we cannot reach the same conclusion. Because our sample is too small, there is greater uncertainty as to whether the value of the sample mean is extreme enough to reject the null hypothesis.\n",
    "\n",
    "### Use of the function `ttest_1samp()`\n",
    "\n",
    "SciPy provides a function `ttest_1samp()` that allows you to perform a *two-tailed* t-test on a collection of observations:"
   ]
  },
  {
   "cell_type": "code",
   "execution_count": 18,
   "metadata": {},
   "outputs": [
    {
     "name": "stdout",
     "output_type": "stream",
     "text": [
      "Sample mean        : 3.450\n",
      "t-score            : 0.254\n",
      "p-value (2-tailed) : 0.80253\n",
      "p-value (1-tailed) : 0.40127\n"
     ]
    }
   ],
   "source": [
    "observations = [\n",
    "  3, 2, 3, 1, 10, 4, 2, 7, 3, 0,\n",
    "  3, 1, 2, 3,  4, 0, 3, 8, 3, 7]\n",
    "a = 0.05\n",
    "m0 = 3.3\n",
    "\n",
    "t_stat, p_val = stats.ttest_1samp(observations, m0)\n",
    "print(\"Sample mean        : %.3f\" % np.mean(observations))\n",
    "print(\"t-score            : %.3f\" % t_stat)\n",
    "print(\"p-value (2-tailed) : %.5f\" % p_val)\n",
    "print(\"p-value (1-tailed) : %.5f\" % (p_val/2))"
   ]
  },
  {
   "cell_type": "markdown",
   "metadata": {},
   "source": [
    "If you wanted to perform a one-tailed test, you can derive the correct conclusion from the results of the function. The $t$-score will be negative if the sample mean is to the left of `m0`. In that case, you would perform a left-tailed test. In a one-tailed test we divide the result for $p$ by 2 and then compare with $\\alpha$. The decision then becomes:\n",
    "\n",
    "- For a right-tailed test: if $p/2 < \\alpha$ and $t > 0$ we can reject the null hypothesis\n",
    "- For a left-tailed test: if $p/2 < \\alpha$ and $t < 0$ we can reject the null hypothesis\n",
    "\n",
    "The conclusion here is that the sample mean of 3.45 is not a sufficient reason to reject the null hypothesis because $p \\approx 0.401$ is greater than the significance level $\\alpha = 0.05$."
   ]
  }
 ],
 "metadata": {
  "kernelspec": {
   "display_name": "Python 3.9.1 64-bit",
   "metadata": {
    "interpreter": {
     "hash": "767d51c1340bd893661ea55ea3124f6de3c7a262a8b4abca0554b478b1e2ff90"
    }
   },
   "name": "python3"
  },
  "language_info": {
   "codemirror_mode": {
    "name": "ipython",
    "version": 3
   },
   "file_extension": ".py",
   "mimetype": "text/x-python",
   "name": "python",
   "nbconvert_exporter": "python",
   "pygments_lexer": "ipython3",
   "version": "3.9.7"
  },
  "orig_nbformat": 2
 },
 "nbformat": 4,
 "nbformat_minor": 2
}
